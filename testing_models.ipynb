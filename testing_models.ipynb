{
 "cells": [
  {
   "cell_type": "markdown",
   "metadata": {},
   "source": [
    "# LeIA"
   ]
  },
  {
   "cell_type": "code",
   "execution_count": null,
   "metadata": {},
   "outputs": [],
   "source": [
    "from LeIA.leia import SentimentIntensityAnalyzer  # https://github.com/rafjaa/LeIA\n",
    "\n",
    "s = SentimentIntensityAnalyzer()\n",
    "\n",
    "# Análise de texto simples\n",
    "s.polarity_scores(\"Eu estou feliz\")\n",
    "# {'neg': 0.0, 'neu': 0.328, 'pos': 0.672, 'compound': 0.6249}\n",
    "\n",
    "# Análise de texto com emoji :)\n",
    "s.polarity_scores(\"Eu estou feliz :)\")\n",
    "# {'neg': 0.0, 'neu': 0.22, 'pos': 0.78, 'compound': 0.7964}\n",
    "\n",
    "# Análise de texto com negação\n",
    "s.polarity_scores(\"Eu não estou feliz\")\n",
    "# {'neg': 0.265, 'neu': 0.241, 'pos': 0.494, 'compound': 0.4404}\n",
    "\n",
    "s.polarity_scores(\"diminuir quantidade funcionario\")"
   ]
  },
  {
   "cell_type": "markdown",
   "metadata": {},
   "source": [
    "# Hugging Face - Text Classification"
   ]
  },
  {
   "cell_type": "code",
   "execution_count": null,
   "metadata": {},
   "outputs": [],
   "source": [
    "# Use a pipeline as a high-level helper\n",
    "from transformers import pipeline\n",
    "\n",
    "pipe = pipeline(\"text-classification\", model=\"Seethal/sentiment_analysis_generic_dataset\")\n",
    "pipe.predict([\"I love you\", \"I dont care\", \"I hate you\"]) "
   ]
  },
  {
   "cell_type": "markdown",
   "metadata": {},
   "source": [
    "# Hugging Face - Translation"
   ]
  },
  {
   "cell_type": "code",
   "execution_count": null,
   "metadata": {},
   "outputs": [],
   "source": [
    "from transformers import AutoTokenizer, AutoModelForSeq2SeqLM, pipeline\n",
    "\n",
    "tokenizer = AutoTokenizer.from_pretrained(\"unicamp-dl/translation-pt-en-t5\")\n",
    "model = AutoModelForSeq2SeqLM.from_pretrained(\"unicamp-dl/translation-pt-en-t5\")\n",
    "pten_pipeline = pipeline(\"text2text-generation\", model=model, tokenizer=tokenizer)\n",
    "pten_pipeline(\"Eu odiei o que você fez.\")"
   ]
  },
  {
   "cell_type": "code",
   "execution_count": null,
   "metadata": {},
   "outputs": [],
   "source": []
  }
 ],
 "metadata": {
  "kernelspec": {
   "display_name": "python_3_10",
   "language": "python",
   "name": "python3"
  },
  "language_info": {
   "codemirror_mode": {
    "name": "ipython",
    "version": 3
   },
   "file_extension": ".py",
   "mimetype": "text/x-python",
   "name": "python",
   "nbconvert_exporter": "python",
   "pygments_lexer": "ipython3",
   "version": "3.10.13"
  }
 },
 "nbformat": 4,
 "nbformat_minor": 2
}
